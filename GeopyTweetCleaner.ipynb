{
 "cells": [
  {
   "cell_type": "code",
   "execution_count": 58,
   "metadata": {},
   "outputs": [],
   "source": [
    "from geopy.geocoders import Nominatim\n",
    "import gmplot\n",
    "import pickle\n",
    "import pandas as pd\n",
    "import sys\n",
    "\n",
    "date = sys.argv[-1]\n",
    "GEOLOCATOR = Nominatim(user_agent='coronavirus-analysis')\n",
    "d = []\n",
    "\n",
    "def geofy(lst):\n",
    "    for el in lst:\n",
    "        try:\n",
    "            d.append([el,GEOLOCATOR.geocode(el, addressdetails=True).raw['address']['country'].lower()])\n",
    "        except:\n",
    "            d.append([el,''])\n",
    "            \n",
    "fn = f'DirtyTweets/{date}-dirty-tweets.pkl'\n",
    "testdf = pd.read_pickle(fn)\n",
    "togeofy = list(testdf['location'].unique())\n",
    "geofy(togeofy)\n",
    "df = pd.DataFrame(d, columns=['unclean','clean'])\n",
    "df.to_csv(f'{date}-geopy-cleaned-tweets.csv',index=False)"
   ]
  }
 ],
 "metadata": {
  "kernelspec": {
   "display_name": "Python 3",
   "language": "python",
   "name": "python3"
  },
  "language_info": {
   "codemirror_mode": {
    "name": "ipython",
    "version": 3
   },
   "file_extension": ".py",
   "mimetype": "text/x-python",
   "name": "python",
   "nbconvert_exporter": "python",
   "pygments_lexer": "ipython3",
   "version": "3.7.4"
  }
 },
 "nbformat": 4,
 "nbformat_minor": 2
}
