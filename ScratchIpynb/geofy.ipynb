{
 "cells": [
  {
   "cell_type": "code",
   "execution_count": 1,
   "metadata": {},
   "outputs": [],
   "source": [
    "from geopy.geocoders import Nominatim\n",
    "import pickle\n",
    "import pandas as pd\n",
    "import sys\n",
    "import time"
   ]
  },
  {
   "cell_type": "code",
   "execution_count": 4,
   "metadata": {},
   "outputs": [
    {
     "data": {
      "text/html": [
       "<div>\n",
       "<style scoped>\n",
       "    .dataframe tbody tr th:only-of-type {\n",
       "        vertical-align: middle;\n",
       "    }\n",
       "\n",
       "    .dataframe tbody tr th {\n",
       "        vertical-align: top;\n",
       "    }\n",
       "\n",
       "    .dataframe thead th {\n",
       "        text-align: right;\n",
       "    }\n",
       "</style>\n",
       "<table border=\"1\" class=\"dataframe\">\n",
       "  <thead>\n",
       "    <tr style=\"text-align: right;\">\n",
       "      <th></th>\n",
       "      <th>unclean</th>\n",
       "      <th>clean</th>\n",
       "    </tr>\n",
       "  </thead>\n",
       "  <tbody>\n",
       "    <tr>\n",
       "      <th>0</th>\n",
       "      <td>in the middle</td>\n",
       "      <td>united states of america</td>\n",
       "    </tr>\n",
       "    <tr>\n",
       "      <th>1</th>\n",
       "      <td>columbus, oh</td>\n",
       "      <td>united states of america</td>\n",
       "    </tr>\n",
       "    <tr>\n",
       "      <th>2</th>\n",
       "      <td>houston, tx</td>\n",
       "      <td>united states of america</td>\n",
       "    </tr>\n",
       "    <tr>\n",
       "      <th>3</th>\n",
       "      <td>chicago, il</td>\n",
       "      <td>united states of america</td>\n",
       "    </tr>\n",
       "    <tr>\n",
       "      <th>4</th>\n",
       "      <td>rocky ford, co</td>\n",
       "      <td>united states of america</td>\n",
       "    </tr>\n",
       "  </tbody>\n",
       "</table>\n",
       "</div>"
      ],
      "text/plain": [
       "          unclean                     clean\n",
       "0   in the middle  united states of america\n",
       "1    columbus, oh  united states of america\n",
       "2     houston, tx  united states of america\n",
       "3     chicago, il  united states of america\n",
       "4  rocky ford, co  united states of america"
      ]
     },
     "execution_count": 4,
     "metadata": {},
     "output_type": "execute_result"
    }
   ],
   "source": [
    "## load existing \"master\" list of location mappings\n",
    "masterdf = pd.read_csv('GeopyCleanedTweets/geopy-cleaned-tweets.csv')\n",
    "masterl = set(list(masterdf['unclean'].unique()))\n",
    "masterdf.head()"
   ]
  },
  {
   "cell_type": "code",
   "execution_count": 5,
   "metadata": {},
   "outputs": [],
   "source": [
    "date = str(sys.argv[-1])  ## take single input date file to clean\n",
    "GEOLOCATOR = Nominatim(user_agent='coronavirus-analysis') ## arbitrary user_agent to mollify warning\n",
    "wait = 1.25 ## define wait time between api calls >1s\n",
    "d = []  ## empty list to append geopy mappings"
   ]
  },
  {
   "cell_type": "code",
   "execution_count": 6,
   "metadata": {},
   "outputs": [],
   "source": [
    "def geofy(lst):\n",
    "    \n",
    "    c = 1  ## counter for print statements\n",
    "    \n",
    "    for el in lst:\n",
    "        print(f'Geofying {c}/{len(lst)}', end='\\r')\n",
    "        time.sleep(1.25)  \n",
    "        try:\n",
    "            d.append([el,GEOLOCATOR.geocode(el, addressdetails=True).raw['address']['country'].lower()])\n",
    "        except:\n",
    "            d.append([el,''])\n",
    "        c += 1"
   ]
  },
  {
   "cell_type": "code",
   "execution_count": null,
   "metadata": {},
   "outputs": [],
   "source": [
    "fn = f'DirtyTweets/{date}-dirty-tweets.pkl'\n",
    "testdf = pd.read_pickle(fn)\n",
    "print(f'Length of dirty df: {len(testdf)}')\n",
    "togeofy = (set(list(testdf['location'].unique()))).difference(masterl)\n",
    "print(f'Length of set after consulting master: {len(togeofy)}')\n",
    "geofy(togeofy)\n",
    "df = pd.DataFrame(d, columns=['unclean','clean'])\n",
    "df.to_csv(f'GeopyCleanedTweets/{date}-geopy-cleaned-tweets.csv', index=False)\n",
    "# df.to_csv(f'GeopyCleanedTweets/geopy-cleaned-tweets.csv', mode='a', index=False, header=True)"
   ]
  }
 ],
 "metadata": {
  "kernelspec": {
   "display_name": "Python 3",
   "language": "python",
   "name": "python3"
  },
  "language_info": {
   "codemirror_mode": {
    "name": "ipython",
    "version": 3
   },
   "file_extension": ".py",
   "mimetype": "text/x-python",
   "name": "python",
   "nbconvert_exporter": "python",
   "pygments_lexer": "ipython3",
   "version": "3.7.4"
  }
 },
 "nbformat": 4,
 "nbformat_minor": 2
}
