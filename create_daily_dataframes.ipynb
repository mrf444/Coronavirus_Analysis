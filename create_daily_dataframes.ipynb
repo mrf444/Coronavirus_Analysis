{
 "cells": [
  {
   "cell_type": "code",
   "execution_count": 1,
   "metadata": {},
   "outputs": [],
   "source": [
    "from daily_tweet_functions import *"
   ]
  },
  {
   "cell_type": "code",
   "execution_count": null,
   "metadata": {},
   "outputs": [],
   "source": [
    "#save january tweets (I've already run this, results are up on github)\n",
    "#save_monthly_tweets('2020-01','2020-01-daily-dfs')"
   ]
  },
  {
   "cell_type": "raw",
   "metadata": {},
   "source": [
    "#save february tweets\n",
    "######### RUN THIS CELL WHEN ALL OF FEBRUARY TWEETS ARE HYDRATED, then push results to github ##########\n",
    "#make sure to create a 2020-02-daily-dfs directory first\n",
    "save_monthly_tweets('2020-02','2020-02-daily-dfs')"
   ]
  },
  {
   "cell_type": "raw",
   "metadata": {},
   "source": [
    "#save march tweets\n",
    "######### RUN THIS CELL WHEN ALL OF MARCH TWEETS ARE HYDRATED, then push results to github ##########\n",
    "#make sure to create a 2020-03-daily-dfs directory first\n",
    "save_monthly_tweets('2020-03','2020-03-daily-dfs')"
   ]
  }
 ],
 "metadata": {
  "kernelspec": {
   "display_name": "Python 3",
   "language": "python",
   "name": "python3"
  },
  "language_info": {
   "codemirror_mode": {
    "name": "ipython",
    "version": 3
   },
   "file_extension": ".py",
   "mimetype": "text/x-python",
   "name": "python",
   "nbconvert_exporter": "python",
   "pygments_lexer": "ipython3",
   "version": "3.7.6"
  }
 },
 "nbformat": 4,
 "nbformat_minor": 2
}
