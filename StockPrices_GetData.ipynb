{
 "cells": [
  {
   "cell_type": "code",
   "execution_count": 3,
   "metadata": {},
   "outputs": [],
   "source": [
    "import json\n",
    "import urllib.request\n",
    "import pandas as pd\n",
    "from pandas.io.json import json_normalize"
   ]
  },
  {
   "cell_type": "code",
   "execution_count": 4,
   "metadata": {},
   "outputs": [],
   "source": [
    "QUERY_URL = \"https://www.alphavantage.co/query?function={REQUEST_TYPE}&apikey={KEY}&symbol={SYMBOL}\"\n",
    "API_KEY = 'RG3MY4ZIWNEBVF8F'\n",
    "\n",
    "def _request(symbol, req_type):\n",
    "    with urllib.request.urlopen(QUERY_URL.format(REQUEST_TYPE=req_type, KEY=API_KEY, SYMBOL=symbol)) as req:\n",
    "        data = req.read().decode(\"UTF-8\")\n",
    "    return data\n",
    "\n",
    "def get_monthly_data(symbol):\n",
    "    return json.loads(_request(symbol, 'TIME_SERIES_MONTHLY'))\n",
    "\n",
    "def get_daily_data(symbol):\n",
    "    return json.loads(_request(symbol, 'TIME_SERIES_DAILY'))"
   ]
  },
  {
   "cell_type": "code",
   "execution_count": 5,
   "metadata": {},
   "outputs": [],
   "source": [
    "import matplotlib.pyplot as plt\n",
    "import seaborn as sns"
   ]
  },
  {
   "cell_type": "code",
   "execution_count": 191,
   "metadata": {},
   "outputs": [],
   "source": [
    "company_df = pd.read_excel('company_for_priceindex.xls')\n",
    "company_df.loc[company_df.company == 'Google','company_index'] = 'GOOGL'\n",
    "company_df.to_csv('company_for_priceindex.xls', index=False)"
   ]
  },
  {
   "cell_type": "markdown",
   "metadata": {},
   "source": [
    "#### Create the first one"
   ]
  },
  {
   "cell_type": "code",
   "execution_count": 143,
   "metadata": {
    "scrolled": false
   },
   "outputs": [],
   "source": [
    "company_list =  company_df.company_index.tolist()\n",
    "\n",
    "company_data_daily = pd.DataFrame(columns = ['yyyy-mm-dd'])\n",
    "for company in company_list:\n",
    "    df = pd.DataFrame.from_dict(json_normalize(get_daily_data(company)))\n",
    "    cols_to_use = [i for i in df.columns if 'Daily' in i and 'close' in i] #data at close\n",
    "    cols_to_use_renamed = {i:i.replace('Time Series (Daily).', '')[:10] for i in cols_to_use}\n",
    "\n",
    "    df = df.rename(columns = cols_to_use_renamed)[cols_to_use_renamed.values()].T\n",
    "    data = pd.DataFrame(columns = ['yyyy-mm-dd', company])\n",
    "    data[company] = df[0].tolist()\n",
    "    data['yyyy-mm-dd'] = df.index.tolist()\n",
    "\n",
    "    company_data_daily = company_data_daily.merge(data, how = 'outer', on = 'yyyy-mm-dd')\n",
    "    \n",
    "comp_notnull = company_data_daily.loc[:,company_data_daily.isnull().sum() != company_data_daily.shape[0]].columns.tolist()\n",
    "company_list_remaining = [i for i in company_list if i not in comp_notnull]"
   ]
  },
  {
   "cell_type": "code",
   "execution_count": 144,
   "metadata": {},
   "outputs": [],
   "source": [
    "company_data_daily = company_data_daily.loc[:,comp_notnull]"
   ]
  },
  {
   "cell_type": "markdown",
   "metadata": {},
   "source": [
    "#### Repeat a few times"
   ]
  },
  {
   "cell_type": "code",
   "execution_count": 187,
   "metadata": {},
   "outputs": [],
   "source": [
    "for company in company_list_remaining:\n",
    "    df = pd.DataFrame.from_dict(json_normalize(get_daily_data(company)))\n",
    "    cols_to_use = [i for i in df.columns if 'Daily' in i and 'close' in i] #data at close\n",
    "    cols_to_use_renamed = {i:i.replace('Time Series (Daily).', '')[:10] for i in cols_to_use}\n",
    "\n",
    "    df = df.rename(columns = cols_to_use_renamed)[cols_to_use_renamed.values()].T\n",
    "    data = pd.DataFrame(columns = ['yyyy-mm-dd', company])\n",
    "    data[company] = df[0].tolist()\n",
    "    data['yyyy-mm-dd'] = df.index.tolist()\n",
    "\n",
    "    company_data_daily = company_data_daily.merge(data, how = 'outer', on = 'yyyy-mm-dd')\n",
    "    \n",
    "comp_notnull = company_data_daily.loc[:,company_data_daily.isnull().sum() != company_data_daily.shape[0]].columns.tolist()\n",
    "company_list_remaining = [i for i in company_list if i not in comp_notnull]"
   ]
  },
  {
   "cell_type": "code",
   "execution_count": 188,
   "metadata": {},
   "outputs": [],
   "source": [
    "company_data_daily = company_data_daily.loc[:,comp_notnull]"
   ]
  },
  {
   "cell_type": "code",
   "execution_count": 189,
   "metadata": {},
   "outputs": [
    {
     "data": {
      "text/plain": [
       "(100, 41)"
      ]
     },
     "execution_count": 189,
     "metadata": {},
     "output_type": "execute_result"
    }
   ],
   "source": [
    "company_data_daily.shape"
   ]
  },
  {
   "cell_type": "code",
   "execution_count": 190,
   "metadata": {},
   "outputs": [],
   "source": [
    "company_data_daily.to_csv('company_financial_data_41.csv', index=False)"
   ]
  }
 ],
 "metadata": {
  "kernelspec": {
   "display_name": "Python 3",
   "language": "python",
   "name": "python3"
  },
  "language_info": {
   "codemirror_mode": {
    "name": "ipython",
    "version": 3
   },
   "file_extension": ".py",
   "mimetype": "text/x-python",
   "name": "python",
   "nbconvert_exporter": "python",
   "pygments_lexer": "ipython3",
   "version": "3.6.7"
  }
 },
 "nbformat": 4,
 "nbformat_minor": 2
}
